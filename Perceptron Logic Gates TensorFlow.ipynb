{
 "cells": [
  {
   "cell_type": "code",
   "execution_count": null,
   "id": "53f00e24",
   "metadata": {},
   "outputs": [],
   "source": [
    "#Using perceptrons to model logic gates\n",
    "import codecademylib3_seaborn\n",
    "from sklearn.linear_model import Perceptron\n",
    "import matplotlib.pyplot as plt\n",
    "import numpy as np\n",
    "from itertools import product\n",
    "#data variable will contain the inputs\n",
    "#data = [[0,0], [1,0], [0,1], [1,1]] #AND gate\n",
    "data = [[0,0], [1,0], [0,1], [1,1]] #XOR gate\n",
    "#data = [[0,0], [1,0], [0,1], [1,1]] #OR gate\n",
    "#labels variable will contain the labels for the inputs\n",
    "#labels = [0, 0, 0, 1] #AND gate\n",
    "labels = [0, 1, 1, 0] #XOR gate\n",
    "#labels = [0, 1, 1, 1] #OR gate\n",
    "#Plotting the inputs and identifying them by the labels\n",
    "plt.scatter([point[0] for point in data], [point[1] for point in data], c = labels)\n",
    "\n",
    "#Creating the perceptron object\n",
    "classifier = Perceptron(max_iter = 40)\n",
    "classifier.fit(data, labels)\n",
    "print(classifier.score(data, labels))\n",
    "#Finding the distance from the decision boundary using different set of points\n",
    "print(classifier.decision_function([[0, 0], [1, 1], [0.5, 0.5]]))\n",
    "x_values = np.linspace(0, 1, 100)\n",
    "y_values = np.linspace(0, 1, 100)\n",
    "point_grid = list(product(x_values, y_values))\n",
    "distances = [classifier.decision_function(point_grid)]\n",
    "abs_distances = [abs(distance) for distance in distances]\n",
    "#Turning abs_distances into a 100 by 100 list which will be used to draw a heat map using Matplotlib's pcolormesh() function\n",
    "distances_matrix = np.reshape(abs_distances, (100, 100))\n",
    "heatmap = plt.pcolormesh(x_values, y_values, distances_matrix)\n",
    "plt.colorbar(heatmap)\n",
    "plt.show()"
   ]
  }
 ],
 "metadata": {
  "kernelspec": {
   "display_name": "Python 3 (ipykernel)",
   "language": "python",
   "name": "python3"
  },
  "language_info": {
   "codemirror_mode": {
    "name": "ipython",
    "version": 3
   },
   "file_extension": ".py",
   "mimetype": "text/x-python",
   "name": "python",
   "nbconvert_exporter": "python",
   "pygments_lexer": "ipython3",
   "version": "3.9.7"
  }
 },
 "nbformat": 4,
 "nbformat_minor": 5
}
